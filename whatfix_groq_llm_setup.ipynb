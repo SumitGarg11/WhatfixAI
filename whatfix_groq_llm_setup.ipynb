{
 "cells": [
  {
   "cell_type": "code",
   "execution_count": 5,
   "metadata": {},
   "outputs": [
    {
     "name": "stdout",
     "output_type": "stream",
     "text": [
      "Whatfix is a digital adoption platform (DAP) company that provides a suite of tools to help organizations improve the onboarding, training, and support of their employees, customers, or users on various software applications, websites, and digital products.\n",
      "\n",
      "The main purpose of Whatfix is to:\n",
      "\n",
      "1. **Simplify complex software applications**: Whatfix helps to break down complex software applications into simple, easy-to-follow instructions, making it easier for users to learn and use them.\n",
      "2. **Improve user adoption and engagement**: By providing contextual, in-app guidance and support, Whatfix enables users to quickly get up to speed with new software applications, reducing the time it takes to become proficient.\n",
      "3. **Reduce support queries and tickets**: Whatfix's interactive guides and tutorials help users to resolve common issues and answer frequently asked questions, reducing the number of support queries and tickets.\n",
      "4. **Enhance overall user experience**: By providing personalized, step-by-step guidance, Whatfix helps to create a more intuitive and user-friendly experience, leading to increased satisfaction and productivity.\n",
      "\n",
      "Whatfix achieves these goals through its range of features, including:\n",
      "\n",
      "* Interactive guides and tutorials\n",
      "* Contextual help and support\n",
      "* Personalized onboarding and training\n",
      "* Analytics and insights to track user behavior and identify areas for improvement\n",
      "\n",
      "Overall, the main purpose of Whatfix is to help organizations to improve the adoption, engagement, and overall experience of their digital products and services, leading to increased efficiency, productivity, and customer satisfaction.\n"
     ]
    }
   ],
   "source": [
    "from dotenv import load_dotenv\n",
    "import os\n",
    "from langchain_groq import ChatGroq\n",
    "# Load environment variables from .env\n",
    "load_dotenv()\n",
    "\n",
    "llm = ChatGroq(\n",
    "    temperature=0,\n",
    "    groq_api_key=os.getenv(\"GROQ_API_KEY\"),\n",
    "    model_name=\"llama-3.3-70b-versatile\"\n",
    ")\n",
    "response = llm.invoke(\"what is the main purpose of whatfix company \")\n",
    "print(response.content)"
   ]
  }
 ],
 "metadata": {
  "kernelspec": {
   "display_name": "base",
   "language": "python",
   "name": "python3"
  },
  "language_info": {
   "codemirror_mode": {
    "name": "ipython",
    "version": 3
   },
   "file_extension": ".py",
   "mimetype": "text/x-python",
   "name": "python",
   "nbconvert_exporter": "python",
   "pygments_lexer": "ipython3",
   "version": "3.12.7"
  }
 },
 "nbformat": 4,
 "nbformat_minor": 2
}
