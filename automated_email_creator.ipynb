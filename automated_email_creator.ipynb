{
 "cells": [
  {
   "cell_type": "code",
   "execution_count": 2,
   "metadata": {},
   "outputs": [
    {
     "data": {
      "text/plain": [
       "True"
      ]
     },
     "execution_count": 2,
     "metadata": {},
     "output_type": "execute_result"
    }
   ],
   "source": [
    "from dotenv import load_dotenv\n",
    "import os\n",
    "from langchain_groq import ChatGroq\n",
    "# Load environment variables from .env\n",
    "load_dotenv()\n",
    "\n"
   ]
  },
  {
   "cell_type": "code",
   "execution_count": 3,
   "metadata": {},
   "outputs": [
    {
     "name": "stdout",
     "output_type": "stream",
     "text": [
      "Whatfix is a digital adoption platform (DAP) company that provides a suite of tools to help organizations improve the onboarding, training, and support of their employees, customers, or users on various software applications, websites, and digital products.\n",
      "\n",
      "The main purpose of Whatfix is to:\n",
      "\n",
      "1. **Simplify complex software applications**: Whatfix helps to break down complex software applications into simple, easy-to-follow instructions, making it easier for users to learn and use them.\n",
      "2. **Improve user adoption and engagement**: By providing contextual, in-app guidance and support, Whatfix enables users to quickly get up to speed with new software applications, reducing the time it takes to become proficient.\n",
      "3. **Reduce support queries and tickets**: Whatfix's interactive guides and tutorials help users to resolve common issues and answer frequently asked questions, reducing the number of support queries and tickets.\n",
      "4. **Enhance overall user experience**: By providing personalized, step-by-step guidance, Whatfix helps to create a more intuitive and user-friendly experience, leading to increased satisfaction and productivity.\n",
      "\n",
      "Whatfix achieves these goals through its range of features, including:\n",
      "\n",
      "* Interactive guides and tutorials\n",
      "* Contextual help and support\n",
      "* Personalized onboarding and training\n",
      "* Analytics and insights to track user behavior and identify areas for improvement\n",
      "\n",
      "Overall, the main purpose of Whatfix is to help organizations to improve the adoption, engagement, and overall experience of their digital products and services, leading to increased efficiency, productivity, and customer satisfaction.\n"
     ]
    }
   ],
   "source": [
    "llm = ChatGroq(\n",
    "    temperature=0,\n",
    "    groq_api_key=os.getenv(\"GROQ_API_KEY\"),\n",
    "    model_name=\"llama-3.3-70b-versatile\"\n",
    ")\n",
    "response = llm.invoke(\"what is the main purpose of whatfix company \")\n",
    "print(response.content)"
   ]
  },
  {
   "cell_type": "code",
   "execution_count": 6,
   "metadata": {},
   "outputs": [
    {
     "name": "stdout",
     "output_type": "stream",
     "text": [
      "Medusa - Join UsProductSolutionsDevelopersPricingWe're hiringDocsSign up MenuDocs·Sign upCareersChange how\n",
      "commerce is builtBuilding a generational company requires exceptional, hard-working people. We are tackling the complexities of commerce infrastructure that no one else has dared to.Join the teamSebastian RindomOliver JuhlNicklas Gellner+15Engineering·Europe & US East CoastSoftware Engineer, Open-sourceAs apart of our open-source team, you will help improve our commerce platform and framework tooling to benefit Medusa developers and merchants.Operations·Europe & US East CoastFounders Associate; GTM, Sales & OpsStep into the engine room of a fast-growing tech startup and help shape Medusa’s commercial future while learning how to market and scale a category defining commerce platform.Engineering·Europe & US East CoastTechnical Support EngineerAs a Technical Support Engineer, you will play a critical role in helping our users build world-class commerce experiencesEngineering·Europe & US East CoastSolutions EngineerAs a Solutions Engineer, you will help Medusa users succeed and bring back learnings to the core team.Ready to build your\n",
      "custom commerce setup?Browse StartersStart BuildingProductStartersAdminModulesFrameworkCloudSolutionsChat with usMedusa ExpertsUser StoriesUser guidesB2BDevelopersDocumentationRecipesChangelogCommunityBlogOtherPricingWe're hiringNewsletterSubscribeGet the latest product news and behind the scenes updates. Unsubscribe at any time.\n"
     ]
    }
   ],
   "source": [
    "from langchain_community.document_loaders import WebBaseLoader\n",
    "\n",
    "loader = WebBaseLoader(\"https://medusajs.com/careers/\")\n",
    "page_data = loader.load().pop().page_content\n",
    "print(page_data)"
   ]
  },
  {
   "cell_type": "code",
   "execution_count": 8,
   "metadata": {},
   "outputs": [
    {
     "data": {
      "text/plain": [
       "str"
      ]
     },
     "execution_count": 8,
     "metadata": {},
     "output_type": "execute_result"
    }
   ],
   "source": [
    "from langchain_core.prompts import PromptTemplate\n",
    "prompt_extract = PromptTemplate.from_template(\n",
    "    \"\"\" \n",
    "    ### SCRAPED TEXT FROM WEBISTE\n",
    "    {page_data}\n",
    "    ### INSTRUCTION:\n",
    "    The scraped text is from the career's page of a website git.\n",
    "    Your job is to extract the job postings and return then in JSON format containing\n",
    "    following keys: `role`,`experience`,`skills` and `description. \n",
    "    Only return the Valid JSON.\n",
    "    ### VALID JSON (NO PREAMBLE):\n",
    "\n",
    "    \"\"\"\n",
    "    \n",
    ")\n",
    "chain_extract = prompt_extract | llm\n",
    "res = chain_extract.invoke(input={'page_data':page_data})\n",
    "type(res.content)"
   ]
  },
  {
   "cell_type": "code",
   "execution_count": 9,
   "metadata": {},
   "outputs": [
    {
     "data": {
      "text/plain": [
       "[{'role': 'Software Engineer, Open-source',\n",
       "  'experience': '',\n",
       "  'skills': '',\n",
       "  'description': 'As apart of our open-source team, you will help improve our commerce platform and framework tooling to benefit Medusa developers and merchants.'},\n",
       " {'role': 'Founders Associate; GTM, Sales & Ops',\n",
       "  'experience': '',\n",
       "  'skills': '',\n",
       "  'description': 'Step into the engine room of a fast-growing tech startup and help shape Medusa’s commercial future while learning how to market and scale a category defining commerce platform.'},\n",
       " {'role': 'Technical Support Engineer',\n",
       "  'experience': '',\n",
       "  'skills': '',\n",
       "  'description': 'As a Technical Support Engineer, you will play a critical role in helping our users build world-class commerce experiences'},\n",
       " {'role': 'Solutions Engineer',\n",
       "  'experience': '',\n",
       "  'skills': '',\n",
       "  'description': 'As a Solutions Engineer, you will help Medusa users succeed and bring back learnings to the core team.'}]"
      ]
     },
     "execution_count": 9,
     "metadata": {},
     "output_type": "execute_result"
    }
   ],
   "source": [
    "from langchain_core.output_parsers import JsonOutputParser\n",
    "\n",
    "json_parser = JsonOutputParser()\n",
    "json_res = json_parser.parse(res.content)\n",
    "json_res"
   ]
  },
  {
   "cell_type": "code",
   "execution_count": 10,
   "metadata": {},
   "outputs": [
    {
     "data": {
      "text/plain": [
       "list"
      ]
     },
     "execution_count": 10,
     "metadata": {},
     "output_type": "execute_result"
    }
   ],
   "source": [
    "type(json_res)"
   ]
  }
 ],
 "metadata": {
  "kernelspec": {
   "display_name": "base",
   "language": "python",
   "name": "python3"
  },
  "language_info": {
   "codemirror_mode": {
    "name": "ipython",
    "version": 3
   },
   "file_extension": ".py",
   "mimetype": "text/x-python",
   "name": "python",
   "nbconvert_exporter": "python",
   "pygments_lexer": "ipython3",
   "version": "3.12.7"
  }
 },
 "nbformat": 4,
 "nbformat_minor": 2
}
