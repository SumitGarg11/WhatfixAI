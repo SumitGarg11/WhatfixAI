{
 "cells": [
  {
   "cell_type": "code",
   "execution_count": 10,
   "metadata": {},
   "outputs": [
    {
     "data": {
      "text/plain": [
       "True"
      ]
     },
     "execution_count": 10,
     "metadata": {},
     "output_type": "execute_result"
    }
   ],
   "source": [
    "from dotenv import load_dotenv\n",
    "import os\n",
    "from langchain_groq import ChatGroq\n",
    "# Load environment variables from .env\n",
    "load_dotenv()\n",
    "\n"
   ]
  },
  {
   "cell_type": "code",
   "execution_count": 11,
   "metadata": {},
   "outputs": [
    {
     "name": "stdout",
     "output_type": "stream",
     "text": [
      "Whatfix is a digital adoption platform (DAP) company that provides a suite of tools to help organizations improve the onboarding, training, and support of their employees, customers, or users on various software applications, websites, and digital products.\n",
      "\n",
      "The main purpose of Whatfix is to:\n",
      "\n",
      "1. **Simplify complex software applications**: Whatfix helps to break down complex software applications into simple, easy-to-follow instructions, making it easier for users to learn and use them.\n",
      "2. **Improve user adoption and engagement**: By providing contextual, in-app guidance and support, Whatfix enables users to quickly get up to speed with new software applications, reducing the time it takes to become proficient.\n",
      "3. **Reduce support queries and tickets**: Whatfix's interactive guides and tutorials help users to resolve common issues and answer frequently asked questions, reducing the number of support queries and tickets.\n",
      "4. **Enhance overall user experience**: By providing personalized, step-by-step guidance, Whatfix helps to create a more intuitive and user-friendly experience, leading to increased satisfaction and productivity.\n",
      "\n",
      "Whatfix achieves these goals through its range of features, including:\n",
      "\n",
      "* Interactive guides and tutorials\n",
      "* Contextual help and support\n",
      "* Personalized onboarding and training\n",
      "* Analytics and insights to track user behavior and identify areas for improvement\n",
      "\n",
      "Overall, the main purpose of Whatfix is to help organizations to improve the adoption, engagement, and overall experience of their digital products and services, leading to increased efficiency, productivity, and customer satisfaction.\n"
     ]
    }
   ],
   "source": [
    "llm = ChatGroq(\n",
    "    temperature=0,\n",
    "    groq_api_key=os.getenv(\"GROQ_API_KEY\"),\n",
    "    model_name=\"llama-3.3-70b-versatile\"\n",
    ")\n",
    "response = llm.invoke(\"what is the main purpose of whatfix company \")\n",
    "print(response.content)"
   ]
  },
  {
   "cell_type": "code",
   "execution_count": 12,
   "metadata": {},
   "outputs": [
    {
     "name": "stderr",
     "output_type": "stream",
     "text": [
      "USER_AGENT environment variable not set, consider setting it to identify your requests.\n"
     ]
    },
    {
     "name": "stdout",
     "output_type": "stream",
     "text": [
      "Medusa - Join UsProductSolutionsDevelopersPricingWe're hiringDocsSign up MenuDocs·Sign upCareersChange how\n",
      "commerce is builtBuilding a generational company requires exceptional, hard-working people. We are tackling the complexities of commerce infrastructure that no one else has dared to.Join the teamSebastian RindomOliver JuhlNicklas Gellner+15Engineering·Europe & US East CoastSoftware Engineer, Open-sourceAs apart of our open-source team, you will help improve our commerce platform and framework tooling to benefit Medusa developers and merchants.Operations·Europe & US East CoastFounders Associate; GTM, Sales & OpsStep into the engine room of a fast-growing tech startup and help shape Medusa’s commercial future while learning how to market and scale a category defining commerce platform.Engineering·Europe & US East CoastTechnical Support EngineerAs a Technical Support Engineer, you will play a critical role in helping our users build world-class commerce experiencesEngineering·Europe & US East CoastSolutions EngineerAs a Solutions Engineer, you will help Medusa users succeed and bring back learnings to the core team.Ready to build your\n",
      "custom commerce setup?Browse StartersStart BuildingProductStartersAdminModulesFrameworkCloudSolutionsChat with usMedusa ExpertsUser StoriesUser guidesB2BDevelopersDocumentationRecipesChangelogCommunityBlogOtherPricingWe're hiringNewsletterSubscribeGet the latest product news and behind the scenes updates. Unsubscribe at any time.\n"
     ]
    }
   ],
   "source": [
    "from langchain_community.document_loaders import WebBaseLoader\n",
    "\n",
    "loader = WebBaseLoader(\"https://medusajs.com/careers/\")\n",
    "page_data = loader.load().pop().page_content\n",
    "print(page_data)"
   ]
  },
  {
   "cell_type": "code",
   "execution_count": 13,
   "metadata": {},
   "outputs": [
    {
     "data": {
      "text/plain": [
       "str"
      ]
     },
     "execution_count": 13,
     "metadata": {},
     "output_type": "execute_result"
    }
   ],
   "source": [
    "from langchain_core.prompts import PromptTemplate\n",
    "prompt_extract = PromptTemplate.from_template(\n",
    "    \"\"\" \n",
    "    ### SCRAPED TEXT FROM WEBISTE\n",
    "    {page_data}\n",
    "    ### INSTRUCTION:\n",
    "    The scraped text is from the career's page of a website git.\n",
    "    Your job is to extract the job postings and return then in JSON format containing\n",
    "    following keys: `role`,`experience`,`skills` and `description. \n",
    "    Only return the Valid JSON.\n",
    "    ### VALID JSON (NO PREAMBLE):\n",
    "\n",
    "    \"\"\"\n",
    "    \n",
    ")\n",
    "chain_extract = prompt_extract | llm\n",
    "res = chain_extract.invoke(input={'page_data':page_data})\n",
    "type(res.content)"
   ]
  },
  {
   "cell_type": "code",
   "execution_count": 14,
   "metadata": {},
   "outputs": [
    {
     "data": {
      "text/plain": [
       "[{'role': 'Software Engineer, Open-source',\n",
       "  'experience': '',\n",
       "  'skills': '',\n",
       "  'description': 'As apart of our open-source team, you will help improve our commerce platform and framework tooling to benefit Medusa developers and merchants.'},\n",
       " {'role': 'Founders Associate; GTM, Sales & Ops',\n",
       "  'experience': '',\n",
       "  'skills': '',\n",
       "  'description': 'Step into the engine room of a fast-growing tech startup and help shape Medusa’s commercial future while learning how to market and scale a category defining commerce platform.'},\n",
       " {'role': 'Technical Support Engineer',\n",
       "  'experience': '',\n",
       "  'skills': '',\n",
       "  'description': 'As a Technical Support Engineer, you will play a critical role in helping our users build world-class commerce experiences'},\n",
       " {'role': 'Solutions Engineer',\n",
       "  'experience': '',\n",
       "  'skills': '',\n",
       "  'description': 'As a Solutions Engineer, you will help Medusa users succeed and bring back learnings to the core team.'}]"
      ]
     },
     "execution_count": 14,
     "metadata": {},
     "output_type": "execute_result"
    }
   ],
   "source": [
    "from langchain_core.output_parsers import JsonOutputParser\n",
    "\n",
    "json_parser = JsonOutputParser()\n",
    "json_res = json_parser.parse(res.content)\n",
    "json_res"
   ]
  },
  {
   "cell_type": "code",
   "execution_count": 15,
   "metadata": {},
   "outputs": [
    {
     "data": {
      "text/plain": [
       "list"
      ]
     },
     "execution_count": 15,
     "metadata": {},
     "output_type": "execute_result"
    }
   ],
   "source": [
    "type(json_res)"
   ]
  },
  {
   "cell_type": "code",
   "execution_count": 16,
   "metadata": {},
   "outputs": [
    {
     "data": {
      "text/html": [
       "<div>\n",
       "<style scoped>\n",
       "    .dataframe tbody tr th:only-of-type {\n",
       "        vertical-align: middle;\n",
       "    }\n",
       "\n",
       "    .dataframe tbody tr th {\n",
       "        vertical-align: top;\n",
       "    }\n",
       "\n",
       "    .dataframe thead th {\n",
       "        text-align: right;\n",
       "    }\n",
       "</style>\n",
       "<table border=\"1\" class=\"dataframe\">\n",
       "  <thead>\n",
       "    <tr style=\"text-align: right;\">\n",
       "      <th></th>\n",
       "      <th>Techstack</th>\n",
       "      <th>Links</th>\n",
       "    </tr>\n",
       "  </thead>\n",
       "  <tbody>\n",
       "    <tr>\n",
       "      <th>0</th>\n",
       "      <td>React, Node.js, MongoDB</td>\n",
       "      <td>https://example.com/react-portfolio</td>\n",
       "    </tr>\n",
       "    <tr>\n",
       "      <th>1</th>\n",
       "      <td>Angular,.NET, SQL Server</td>\n",
       "      <td>https://example.com/angular-portfolio</td>\n",
       "    </tr>\n",
       "    <tr>\n",
       "      <th>2</th>\n",
       "      <td>Vue.js, Ruby on Rails, PostgreSQL</td>\n",
       "      <td>https://example.com/vue-portfolio</td>\n",
       "    </tr>\n",
       "    <tr>\n",
       "      <th>3</th>\n",
       "      <td>Python, Django, MySQL</td>\n",
       "      <td>https://example.com/python-portfolio</td>\n",
       "    </tr>\n",
       "    <tr>\n",
       "      <th>4</th>\n",
       "      <td>Java, Spring Boot, Oracle</td>\n",
       "      <td>https://example.com/java-portfolio</td>\n",
       "    </tr>\n",
       "    <tr>\n",
       "      <th>5</th>\n",
       "      <td>Flutter, Firebase, GraphQL</td>\n",
       "      <td>https://example.com/flutter-portfolio</td>\n",
       "    </tr>\n",
       "    <tr>\n",
       "      <th>6</th>\n",
       "      <td>WordPress, PHP, MySQL</td>\n",
       "      <td>https://example.com/wordpress-portfolio</td>\n",
       "    </tr>\n",
       "    <tr>\n",
       "      <th>7</th>\n",
       "      <td>Magento, PHP, MySQL</td>\n",
       "      <td>https://example.com/magento-portfolio</td>\n",
       "    </tr>\n",
       "    <tr>\n",
       "      <th>8</th>\n",
       "      <td>React Native, Node.js, MongoDB</td>\n",
       "      <td>https://example.com/react-native-portfolio</td>\n",
       "    </tr>\n",
       "    <tr>\n",
       "      <th>9</th>\n",
       "      <td>iOS, Swift, Core Data</td>\n",
       "      <td>https://example.com/ios-portfolio</td>\n",
       "    </tr>\n",
       "    <tr>\n",
       "      <th>10</th>\n",
       "      <td>Android, Java, Room Persistence</td>\n",
       "      <td>https://example.com/android-portfolio</td>\n",
       "    </tr>\n",
       "    <tr>\n",
       "      <th>11</th>\n",
       "      <td>Kotlin, Android, Firebase</td>\n",
       "      <td>https://example.com/kotlin-android-portfolio</td>\n",
       "    </tr>\n",
       "    <tr>\n",
       "      <th>12</th>\n",
       "      <td>Android TV, Kotlin, Android NDK</td>\n",
       "      <td>https://example.com/android-tv-portfolio</td>\n",
       "    </tr>\n",
       "    <tr>\n",
       "      <th>13</th>\n",
       "      <td>iOS, Swift, ARKit</td>\n",
       "      <td>https://example.com/ios-ar-portfolio</td>\n",
       "    </tr>\n",
       "    <tr>\n",
       "      <th>14</th>\n",
       "      <td>Cross-platform, Xamarin, Azure</td>\n",
       "      <td>https://example.com/xamarin-portfolio</td>\n",
       "    </tr>\n",
       "    <tr>\n",
       "      <th>15</th>\n",
       "      <td>Backend, Kotlin, Spring Boot</td>\n",
       "      <td>https://example.com/kotlin-backend-portfolio</td>\n",
       "    </tr>\n",
       "    <tr>\n",
       "      <th>16</th>\n",
       "      <td>Frontend, TypeScript, Angular</td>\n",
       "      <td>https://example.com/typescript-frontend-portfolio</td>\n",
       "    </tr>\n",
       "    <tr>\n",
       "      <th>17</th>\n",
       "      <td>Full-stack, JavaScript, Express.js</td>\n",
       "      <td>https://example.com/full-stack-js-portfolio</td>\n",
       "    </tr>\n",
       "    <tr>\n",
       "      <th>18</th>\n",
       "      <td>Machine Learning, Python, TensorFlow</td>\n",
       "      <td>https://example.com/ml-python-portfolio</td>\n",
       "    </tr>\n",
       "    <tr>\n",
       "      <th>19</th>\n",
       "      <td>DevOps, Jenkins, Docker</td>\n",
       "      <td>https://example.com/devops-portfolio</td>\n",
       "    </tr>\n",
       "  </tbody>\n",
       "</table>\n",
       "</div>"
      ],
      "text/plain": [
       "                               Techstack  \\\n",
       "0                React, Node.js, MongoDB   \n",
       "1               Angular,.NET, SQL Server   \n",
       "2      Vue.js, Ruby on Rails, PostgreSQL   \n",
       "3                  Python, Django, MySQL   \n",
       "4              Java, Spring Boot, Oracle   \n",
       "5             Flutter, Firebase, GraphQL   \n",
       "6                  WordPress, PHP, MySQL   \n",
       "7                    Magento, PHP, MySQL   \n",
       "8         React Native, Node.js, MongoDB   \n",
       "9                  iOS, Swift, Core Data   \n",
       "10       Android, Java, Room Persistence   \n",
       "11             Kotlin, Android, Firebase   \n",
       "12       Android TV, Kotlin, Android NDK   \n",
       "13                     iOS, Swift, ARKit   \n",
       "14        Cross-platform, Xamarin, Azure   \n",
       "15          Backend, Kotlin, Spring Boot   \n",
       "16         Frontend, TypeScript, Angular   \n",
       "17    Full-stack, JavaScript, Express.js   \n",
       "18  Machine Learning, Python, TensorFlow   \n",
       "19               DevOps, Jenkins, Docker   \n",
       "\n",
       "                                                Links  \n",
       "0                 https://example.com/react-portfolio  \n",
       "1               https://example.com/angular-portfolio  \n",
       "2                   https://example.com/vue-portfolio  \n",
       "3                https://example.com/python-portfolio  \n",
       "4                  https://example.com/java-portfolio  \n",
       "5               https://example.com/flutter-portfolio  \n",
       "6             https://example.com/wordpress-portfolio  \n",
       "7               https://example.com/magento-portfolio  \n",
       "8          https://example.com/react-native-portfolio  \n",
       "9                   https://example.com/ios-portfolio  \n",
       "10              https://example.com/android-portfolio  \n",
       "11       https://example.com/kotlin-android-portfolio  \n",
       "12           https://example.com/android-tv-portfolio  \n",
       "13               https://example.com/ios-ar-portfolio  \n",
       "14              https://example.com/xamarin-portfolio  \n",
       "15       https://example.com/kotlin-backend-portfolio  \n",
       "16  https://example.com/typescript-frontend-portfolio  \n",
       "17        https://example.com/full-stack-js-portfolio  \n",
       "18            https://example.com/ml-python-portfolio  \n",
       "19               https://example.com/devops-portfolio  "
      ]
     },
     "execution_count": 16,
     "metadata": {},
     "output_type": "execute_result"
    }
   ],
   "source": [
    "import pandas as pd\n",
    "\n",
    "df = pd.read_csv(\"my_portfolio.csv\")\n",
    "df"
   ]
  },
  {
   "cell_type": "code",
   "execution_count": 17,
   "metadata": {},
   "outputs": [],
   "source": [
    "import uuid\n",
    "import chromadb\n",
    "\n",
    "client = chromadb.PersistentClient('vectorstore')\n",
    "collection = client.get_or_create_collection(name=\"portfolio\")\n",
    "\n",
    "if not collection.count():\n",
    "    for _, row in df.iterrows():\n",
    "        collection.add(documents=row[\"Techstack\"],\n",
    "                       metadatas={\"links\": row[\"Links\"]},\n",
    "                       ids=[str(uuid.uuid4())])"
   ]
  },
  {
   "cell_type": "code",
   "execution_count": 21,
   "metadata": {},
   "outputs": [
    {
     "data": {
      "text/plain": [
       "[[{'links': 'https://example.com/android-tv-portfolio'},\n",
       "  {'links': 'https://example.com/kotlin-backend-portfolio'}]]"
      ]
     },
     "execution_count": 21,
     "metadata": {},
     "output_type": "execute_result"
    }
   ],
   "source": [
    "links = collection.query(query_texts=job['skills'], n_results=2).get('metadatas', [])\n",
    "links"
   ]
  },
  {
   "cell_type": "code",
   "execution_count": 20,
   "metadata": {},
   "outputs": [
    {
     "name": "stdout",
     "output_type": "stream",
     "text": [
      "\n"
     ]
    }
   ],
   "source": [
    "job = json_res[0]  \n",
    "print(job['skills']) "
   ]
  },
  {
   "cell_type": "code",
   "execution_count": 23,
   "metadata": {},
   "outputs": [
    {
     "name": "stdout",
     "output_type": "stream",
     "text": [
      "Subject: Simplify Onboarding and Training for Your Open-Source Software Engineers\n",
      "\n",
      "Dear Hiring Manager,\n",
      "\n",
      "I came across the job description for a Software Engineer, Open-source, and I was impressed by the role's focus on improving the commerce platform and framework tooling for Medusa developers and merchants. As a Business Development Executive at Whatfix, I believe our Digital Adoption Platform can help address the onboarding and training challenges that come with this position.\n",
      "\n",
      "Our platform empowers organizations to simplify user onboarding, training, and software adoption through in-app guidance and automation. With Whatfix, you can create personalized learning paths, automate repetitive tasks, and provide real-time support to your software engineers, ensuring they become productive quickly.\n",
      "\n",
      "I'd like to highlight a few success stories from our portfolio that demonstrate the impact of our platform. For instance, our work with Android TV ([https://example.com/android-tv-portfolio](https://example.com/android-tv-portfolio)) showcases how we've helped streamline user onboarding and training for complex software applications. Similarly, our collaboration with Kotlin Backend ([https://example.com/kotlin-backend-portfolio](https://example.com/kotlin-backend-portfolio)) demonstrates our expertise in supporting the adoption of new technologies and frameworks.\n",
      "\n",
      "By leveraging Whatfix, you can:\n",
      "\n",
      "* Reduce the time it takes for new software engineers to become proficient in your commerce platform and framework tooling\n",
      "* Improve knowledge retention and reduce errors through personalized learning paths and real-time support\n",
      "* Enhance the overall productivity and job satisfaction of your software engineers\n",
      "\n",
      "I'd love to discuss how Whatfix can help address the specific onboarding and training challenges for this role. Please let me know if you're interested in scheduling a call to explore further.\n",
      "\n",
      "Best regards,\n",
      "\n",
      "Mohan\n",
      "Business Development Executive, Whatfix\n"
     ]
    }
   ],
   "source": [
    "prompt_email = PromptTemplate.from_template(\n",
    "        \"\"\"\n",
    "        ### JOB DESCRIPTION:\n",
    "        {job_description}\n",
    "        \n",
    "       ### INSTRUCTION:\n",
    "       You are Mohan, a Business Development Executive at Whatfix. Whatfix is a leading Digital Adoption Platform that empowers organizations to simplify user onboarding, training, and software adoption through in-app guidance and automation.  \n",
    "       Over the years, Whatfix has helped global enterprises enhance user productivity, reduce support costs, and accelerate digital transformation.  \n",
    "       Your job is to write a personalized cold email to the client regarding the job mentioned above, highlighting how Whatfix can address their onboarding and training challenges for this role.  \n",
    "       Also add the most relevant ones from the following links to showcase Whatfix's portfolio and success stories: {link_list}  \n",
    "       Remember, you are Mohan, BDE at Whatfix.  \n",
    "       Do not provide a preamble.  \n",
    "       ### EMAIL (NO PREAMBLE):\n",
    "\n",
    "        \n",
    "        \"\"\"\n",
    "        )\n",
    "\n",
    "chain_email = prompt_email | llm\n",
    "res = chain_email.invoke({\"job_description\": str(job), \"link_list\": links})\n",
    "print(res.content)"
   ]
  }
 ],
 "metadata": {
  "kernelspec": {
   "display_name": "base",
   "language": "python",
   "name": "python3"
  },
  "language_info": {
   "codemirror_mode": {
    "name": "ipython",
    "version": 3
   },
   "file_extension": ".py",
   "mimetype": "text/x-python",
   "name": "python",
   "nbconvert_exporter": "python",
   "pygments_lexer": "ipython3",
   "version": "3.12.7"
  }
 },
 "nbformat": 4,
 "nbformat_minor": 2
}
